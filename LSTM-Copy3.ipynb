{
 "cells": [
  {
   "cell_type": "markdown",
   "metadata": {},
   "source": [
    "## Preprocessing"
   ]
  },
  {
   "cell_type": "code",
   "execution_count": 1,
   "metadata": {},
   "outputs": [
    {
     "name": "stderr",
     "output_type": "stream",
     "text": [
      "C:\\Users\\knyag\\Anaconda3\\lib\\site-packages\\sklearn\\cross_validation.py:41: DeprecationWarning: This module was deprecated in version 0.18 in favor of the model_selection module into which all the refactored classes and functions are moved. Also note that the interface of the new CV iterators are different from that of this module. This module will be removed in 0.20.\n",
      "  \"This module will be removed in 0.20.\", DeprecationWarning)\n"
     ]
    }
   ],
   "source": [
    "import pickle\n",
    "import numpy as np\n",
    "import pandas as pd\n",
    "import matplotlib.pyplot as plt \n",
    "from sklearn.cross_validation import train_test_split\n",
    "from sklearn.linear_model import LogisticRegression\n",
    "from sklearn.metrics import mean_squared_error, accuracy_score"
   ]
  },
  {
   "cell_type": "code",
   "execution_count": 2,
   "metadata": {},
   "outputs": [],
   "source": [
    "with open(r'C:\\Users\\knyag\\Downloads\\Beatup\\Beatup\\dataset_numeric_full.pkl.txt', 'rb') as f:\n",
    "    data = pickle.load(f)"
   ]
  },
  {
   "cell_type": "code",
   "execution_count": 3,
   "metadata": {},
   "outputs": [],
   "source": [
    "file = pd.DataFrame(data)"
   ]
  },
  {
   "cell_type": "code",
   "execution_count": 4,
   "metadata": {},
   "outputs": [],
   "source": [
    "ids = file.id1.unique()\n",
    "IDN = ids.shape[0]"
   ]
  },
  {
   "cell_type": "code",
   "execution_count": 5,
   "metadata": {},
   "outputs": [],
   "source": [
    "file['date'] = pd.to_datetime(file.date, dayfirst = True)"
   ]
  },
  {
   "cell_type": "code",
   "execution_count": 5,
   "metadata": {},
   "outputs": [],
   "source": [
    "file['id12'] = file[['id1', 'id2']].min(axis=1).apply(str)+'_'+file[['id1', 'id2']].max(axis=1).apply(str)"
   ]
  },
  {
   "cell_type": "code",
   "execution_count": 6,
   "metadata": {},
   "outputs": [],
   "source": [
    "file['order'] = file['dsf_vector'].apply(lambda x: len(x))"
   ]
  },
  {
   "cell_type": "code",
   "execution_count": 7,
   "metadata": {},
   "outputs": [],
   "source": [
    "file.sort_values(by = ['id12','order'], inplace = True)"
   ]
  },
  {
   "cell_type": "code",
   "execution_count": 8,
   "metadata": {},
   "outputs": [],
   "source": [
    "file = file.iloc[::2]"
   ]
  },
  {
   "cell_type": "code",
   "execution_count": 219,
   "metadata": {},
   "outputs": [
    {
     "data": {
      "text/plain": [
       "<matplotlib.axes._subplots.AxesSubplot at 0x23ab4250358>"
      ]
     },
     "execution_count": 219,
     "metadata": {},
     "output_type": "execute_result"
    },
    {
     "data": {
      "image/png": "[encoded data removed]",
      "text/plain": [
       "<Figure size 432x288 with 1 Axes>"
      ]
     },
     "metadata": {},
     "output_type": "display_data"
    }
   ],
   "source": [
    "file.order.hist(bins = 100)"
   ]
  },
  {
   "cell_type": "code",
   "execution_count": 241,
   "metadata": {},
   "outputs": [
    {
     "data": {
      "text/plain": [
       "27.0"
      ]
     },
     "execution_count": 241,
     "metadata": {},
     "output_type": "execute_result"
    }
   ],
   "source": [
    "file.order.quantile(0.99)"
   ]
  },
  {
   "cell_type": "code",
   "execution_count": 252,
   "metadata": {},
   "outputs": [
    {
     "data": {
      "text/plain": [
       "7"
      ]
     },
     "execution_count": 252,
     "metadata": {},
     "output_type": "execute_result"
    }
   ],
   "source": [
    "file[file.order >= 40].shape[0]"
   ]
  },
  {
   "cell_type": "code",
   "execution_count": 9,
   "metadata": {},
   "outputs": [],
   "source": [
    "def vectors_to_matrix(name, pad = 0):\n",
    "    \n",
    "    temp = file[['id12',name,name+'_vector','order']].values\n",
    "    x = []\n",
    "    for i in range(1,temp.shape[0]):\n",
    "        if temp[i,3] == 0:\n",
    "            if temp[i-1,2] == []:\n",
    "                x.append([temp[i-1,1]])\n",
    "            else:\n",
    "                x.append(temp[i-1,2][-1]+[temp[i-1,1]])\n",
    "                \n",
    "    if temp[-1,2] == []:            \n",
    "        x.append([temp[-1,1]])\n",
    "    else:\n",
    "        x.append(temp[-1,2][-1]+[temp[-1,1]])\n",
    "    \n",
    "    for i in range(len(x)):\n",
    "        x[i] = x[i] + [pad for j in range(max(map(len, x)) - len(x[i]))]\n",
    "        \n",
    "    return np.array(x).astype(float)"
   ]
  },
  {
   "cell_type": "code",
   "execution_count": 10,
   "metadata": {},
   "outputs": [],
   "source": [
    "y = vectors_to_matrix('dsf')"
   ]
  },
  {
   "cell_type": "code",
   "execution_count": 11,
   "metadata": {},
   "outputs": [],
   "source": [
    "ys = np.copy(y)\n",
    "ys[ys == 1] = 0.2\n",
    "ys[ys == -1] = -0.2\n",
    "ys[ys == 2] = 0.6\n",
    "ys[ys == -2] = -0.6\n",
    "ys[ys == 3] = 1\n",
    "ys[ys == -3] = -1"
   ]
  },
  {
   "cell_type": "code",
   "execution_count": 12,
   "metadata": {},
   "outputs": [],
   "source": [
    "from sklearn.preprocessing import StandardScaler, MinMaxScaler"
   ]
  },
  {
   "cell_type": "code",
   "execution_count": 13,
   "metadata": {},
   "outputs": [],
   "source": [
    "ratings = StandardScaler().fit_transform(vectors_to_matrix('current_rating1') - vectors_to_matrix('current_rating2'))"
   ]
  },
  {
   "cell_type": "code",
   "execution_count": 14,
   "metadata": {},
   "outputs": [],
   "source": [
    "t = MinMaxScaler().fit_transform(vectors_to_matrix('ttligapro_liga_rating_min'))"
   ]
  },
  {
   "cell_type": "code",
   "execution_count": 15,
   "metadata": {},
   "outputs": [],
   "source": [
    "from sklearn.preprocessing import OneHotEncoder as enc"
   ]
  },
  {
   "cell_type": "code",
   "execution_count": 16,
   "metadata": {},
   "outputs": [],
   "source": [
    "p = np.vstack((file[file.order == 0]['id1'].values, file[file.order == 0]['id2'].values)).reshape(-1,1)\n",
    "p = enc().fit_transform(p).toarray()\n",
    "dp = p[:file[file.order == 0].shape[0],:] - p[file[file.order == 0].shape[0]:,:]"
   ]
  },
  {
   "cell_type": "code",
   "execution_count": 17,
   "metadata": {},
   "outputs": [],
   "source": [
    "x = np.hstack((dp,ratings,t))\n",
    "y_train, y_test, x_train, x_test = train_test_split(y, x, test_size = 0.2, random_state=42)"
   ]
  },
  {
   "cell_type": "code",
   "execution_count": 18,
   "metadata": {},
   "outputs": [],
   "source": [
    "dp_train = x_train[:,:dp.shape[1]]\n",
    "ratings_train = x_train[:,dp.shape[1]:dp.shape[1]+ratings.shape[1]]\n",
    "t_train = x_train[:,dp.shape[1]+ratings.shape[1]:]\n",
    "dp_test = x_test[:,:dp.shape[1]]\n",
    "ratings_test = x_test[:,dp.shape[1]:dp.shape[1]+ratings.shape[1]]\n",
    "t_test = x_test[:,dp.shape[1]+ratings.shape[1]:]"
   ]
  },
  {
   "cell_type": "code",
   "execution_count": 62,
   "metadata": {},
   "outputs": [
    {
     "data": {
      "text/plain": [
       "(597, 47)"
      ]
     },
     "execution_count": 62,
     "metadata": {},
     "output_type": "execute_result"
    }
   ],
   "source": [
    "y_test.shape"
   ]
  },
  {
   "cell_type": "markdown",
   "metadata": {},
   "source": [
    "## Model"
   ]
  },
  {
   "cell_type": "code",
   "execution_count": 19,
   "metadata": {},
   "outputs": [
    {
     "name": "stderr",
     "output_type": "stream",
     "text": [
      "C:\\Users\\knyag\\Anaconda3\\lib\\site-packages\\h5py\\__init__.py:36: FutureWarning: Conversion of the second argument of issubdtype from `float` to `np.floating` is deprecated. In future, it will be treated as `np.float64 == np.dtype(float).type`.\n",
      "  from ._conv import register_converters as _register_converters\n",
      "Using TensorFlow backend.\n"
     ]
    }
   ],
   "source": [
    "import tensorflow as tf\n",
    "import keras as K\n",
    "from keras.layers import Dense"
   ]
  },
  {
   "cell_type": "code",
   "execution_count": 44,
   "metadata": {},
   "outputs": [],
   "source": [
    "K.backend.clear_session()\n",
    "tf.reset_default_graph()\n",
    "s = K.backend.get_session()"
   ]
  },
  {
   "cell_type": "code",
   "execution_count": 46,
   "metadata": {},
   "outputs": [],
   "source": [
    "W = tf.get_variable(name = \"W\", shape = [IDN, 1], dtype = tf.float32)\n",
    "B = tf.get_variable(name = \"B\", shape = [3, 7], dtype = tf.float32)\n",
    "b = tf.get_variable(name = \"b\", shape = [1, 7], dtype = tf.float32)\n",
    "P = tf.placeholder('float32', [None, IDN])\n",
    "Y = tf.placeholder('float32', [None, None])\n",
    "R = tf.placeholder('float32', [None, None])\n",
    "T = tf.placeholder('float32', [None, None])\n",
    "check = tf.expand_dims(Y, axis = 2)"
   ]
  },
  {
   "cell_type": "code",
   "execution_count": 47,
   "metadata": {},
   "outputs": [],
   "source": [
    "c0 = h0 = P @ W"
   ]
  },
  {
   "cell_type": "code",
   "execution_count": 48,
   "metadata": {},
   "outputs": [],
   "source": [
    "lstm = tf.nn.rnn_cell.LSTMCell(1)\n",
    "hidden_states, _ = tf.nn.dynamic_rnn(lstm, check, initial_state=tf.nn.rnn_cell.LSTMStateTuple(c0, h0))"
   ]
  },
  {
   "cell_type": "code",
   "execution_count": 49,
   "metadata": {},
   "outputs": [],
   "source": [
    "flat_hidden_states = tf.reshape(hidden_states,[-1, 1])\n",
    "flat_R = tf.reshape(R,[-1, 1])\n",
    "flat_T = tf.reshape(T,[-1, 1])\n",
    "flat_Y = tf.cast(tf.reshape(Y,[-1]) , tf.int32)\n",
    "flat_loss_mask = tf.not_equal(flat_Y, tf.zeros_like(flat_Y)+3)"
   ]
  },
  {
   "cell_type": "code",
   "execution_count": 50,
   "metadata": {},
   "outputs": [],
   "source": [
    "X = tf.concat([flat_hidden_states, flat_R, flat_T], axis = 1)\n",
    "results = X @ B + b"
   ]
  },
  {
   "cell_type": "code",
   "execution_count": 58,
   "metadata": {},
   "outputs": [
    {
     "name": "stderr",
     "output_type": "stream",
     "text": [
      "C:\\Users\\knyag\\Anaconda3\\lib\\site-packages\\tensorflow\\python\\ops\\gradients_impl.py:100: UserWarning: Converting sparse IndexedSlices to a dense Tensor of unknown shape. This may consume a large amount of memory.\n",
      "  \"Converting sparse IndexedSlices to a dense Tensor of unknown shape. \"\n"
     ]
    }
   ],
   "source": [
    "L = tf.nn.sparse_softmax_cross_entropy_with_logits(labels=flat_Y, logits=results)\n",
    "loss = tf.reduce_mean(tf.boolean_mask(L, flat_loss_mask))\n",
    "optimizer = tf.train.AdamOptimizer(learning_rate=0.0005)\n",
    "train_step = optimizer.minimize(loss)\n",
    "masked_Y = tf.boolean_mask(flat_Y, flat_loss_mask)\n",
    "masked_pred = tf.boolean_mask(tf.argmax(results, 1), flat_loss_mask)                              \n",
    "acc, acc_op = tf.metrics.accuracy(labels=masked_Y, predictions=masked_pred)"
   ]
  },
  {
   "cell_type": "markdown",
   "metadata": {},
   "source": [
    "## Training"
   ]
  },
  {
   "cell_type": "code",
   "execution_count": 52,
   "metadata": {},
   "outputs": [],
   "source": [
    "def generate_batch(y, p, r, t, batch_size):\n",
    "    batch = np.random.choice(np.arange(y.shape[0]),batch_size,replace = False)\n",
    "    batch_y = np.empty((batch_size, y.shape[1]))\n",
    "    batch_p = np.empty((batch_size, p.shape[1]))\n",
    "    batch_r = np.empty((batch_size, r.shape[1]))\n",
    "    batch_t = np.empty((batch_size, t.shape[1]))\n",
    "    for i,j in enumerate(batch):\n",
    "        batch_y[i,:] = y[j,:]+3\n",
    "        batch_p[i,:] = p[j,:]\n",
    "        batch_r[i,:] = r[j,:]\n",
    "        batch_t[i,:] = t[j,:]\n",
    "    return {Y: batch_y, P: batch_p, R: batch_r, T: batch_t}"
   ]
  },
  {
   "cell_type": "code",
   "execution_count": 56,
   "metadata": {},
   "outputs": [],
   "source": [
    "batch_size = 64\n",
    "n_epochs = 20\n",
    "n_batches_per_epoch = 2000\n",
    "n_validation_batches = 400"
   ]
  },
  {
   "cell_type": "code",
   "execution_count": 54,
   "metadata": {},
   "outputs": [],
   "source": [
    "from tqdm import tqdm_notebook as tqdm\n",
    "import random"
   ]
  },
  {
   "cell_type": "code",
   "execution_count": 59,
   "metadata": {
    "scrolled": false
   },
   "outputs": [
    {
     "data": {
      "application/vnd.jupyter.widget-view+json": {
       "model_id": "fb7df8ce1668433184a496b2f2b81150",
       "version_major": 2,
       "version_minor": 0
      },
      "text/plain": [
       "HBox(children=(IntProgress(value=0, max=2000), HTML(value='')))"
      ]
     },
     "metadata": {},
     "output_type": "display_data"
    },
    {
     "name": "stdout",
     "output_type": "stream",
     "text": [
      "Epoch: 0, train loss: 1.8011662799715995, val loss: 1.5104089456796645\n",
      "Accuracy: 0.0\n"
     ]
    },
    {
     "data": {
      "application/vnd.jupyter.widget-view+json": {
       "model_id": "e751fdd3928046e89ef9e0ef4d4e74ff",
       "version_major": 2,
       "version_minor": 0
      },
      "text/plain": [
       "HBox(children=(IntProgress(value=0, max=2000), HTML(value='')))"
      ]
     },
     "metadata": {},
     "output_type": "display_data"
    },
    {
     "name": "stdout",
     "output_type": "stream",
     "text": [
      "Epoch: 1, train loss: 1.3271428892612458, val loss: 1.2032385402917862\n",
      "Accuracy: 0.0\n"
     ]
    },
    {
     "data": {
      "application/vnd.jupyter.widget-view+json": {
       "model_id": "2cbd178ec21343b3a147f0e764998691",
       "version_major": 2,
       "version_minor": 0
      },
      "text/plain": [
       "HBox(children=(IntProgress(value=0, max=2000), HTML(value='')))"
      ]
     },
     "metadata": {},
     "output_type": "display_data"
    },
    {
     "name": "stdout",
     "output_type": "stream",
     "text": [
      "Epoch: 2, train loss: 1.1445346397161484, val loss: 1.1121990177035332\n",
      "Accuracy: 0.0\n"
     ]
    },
    {
     "data": {
      "application/vnd.jupyter.widget-view+json": {
       "model_id": "70c056268b76417b999d906843b3fbe0",
       "version_major": 2,
       "version_minor": 0
      },
      "text/plain": [
       "HBox(children=(IntProgress(value=0, max=2000), HTML(value='')))"
      ]
     },
     "metadata": {},
     "output_type": "display_data"
    },
    {
     "name": "stdout",
     "output_type": "stream",
     "text": [
      "Epoch: 3, train loss: 1.0613682912290097, val loss: 1.0121259114146233\n",
      "Accuracy: 0.0\n"
     ]
    },
    {
     "data": {
      "application/vnd.jupyter.widget-view+json": {
       "model_id": "ce89a6df90f641e2bcac6773af33004d",
       "version_major": 2,
       "version_minor": 0
      },
      "text/plain": [
       "HBox(children=(IntProgress(value=0, max=2000), HTML(value='')))"
      ]
     },
     "metadata": {},
     "output_type": "display_data"
    },
    {
     "name": "stdout",
     "output_type": "stream",
     "text": [
      "Epoch: 4, train loss: 0.9540535660982132, val loss: 0.9206483823060989\n",
      "Accuracy: 0.0\n"
     ]
    },
    {
     "data": {
      "application/vnd.jupyter.widget-view+json": {
       "model_id": "08354610cea04a0fb99035f772fd8d89",
       "version_major": 2,
       "version_minor": 0
      },
      "text/plain": [
       "HBox(children=(IntProgress(value=0, max=2000), HTML(value='')))"
      ]
     },
     "metadata": {},
     "output_type": "display_data"
    },
    {
     "name": "stdout",
     "output_type": "stream",
     "text": [
      "Epoch: 5, train loss: 0.8808428225815296, val loss: 0.8632829856872558\n",
      "Accuracy: 0.0\n"
     ]
    },
    {
     "data": {
      "application/vnd.jupyter.widget-view+json": {
       "model_id": "41959861fb2341199a1cd36de5cf2016",
       "version_major": 2,
       "version_minor": 0
      },
      "text/plain": [
       "HBox(children=(IntProgress(value=0, max=2000), HTML(value='')))"
      ]
     },
     "metadata": {},
     "output_type": "display_data"
    },
    {
     "name": "stdout",
     "output_type": "stream",
     "text": [
      "Epoch: 6, train loss: 0.8330584278404712, val loss: 0.8230304761230945\n",
      "Accuracy: 0.0\n"
     ]
    },
    {
     "data": {
      "application/vnd.jupyter.widget-view+json": {
       "model_id": "90ba50309e104c9c9aeeae1d403c7ad3",
       "version_major": 2,
       "version_minor": 0
      },
      "text/plain": [
       "HBox(children=(IntProgress(value=0, max=2000), HTML(value='')))"
      ]
     },
     "metadata": {},
     "output_type": "display_data"
    },
    {
     "name": "stdout",
     "output_type": "stream",
     "text": [
      "Epoch: 7, train loss: 0.798004733979702, val loss: 0.7943518115580082\n",
      "Accuracy: 0.0\n"
     ]
    },
    {
     "data": {
      "application/vnd.jupyter.widget-view+json": {
       "model_id": "4d8ff1dd6a444f0ca455dab5cfd6e6b3",
       "version_major": 2,
       "version_minor": 0
      },
      "text/plain": [
       "HBox(children=(IntProgress(value=0, max=2000), HTML(value='')))"
      ]
     },
     "metadata": {},
     "output_type": "display_data"
    },
    {
     "name": "stdout",
     "output_type": "stream",
     "text": [
      "Epoch: 8, train loss: 0.7709357681572437, val loss: 0.7730061426758766\n",
      "Accuracy: 0.0\n"
     ]
    },
    {
     "data": {
      "application/vnd.jupyter.widget-view+json": {
       "model_id": "070b0619e5584147939a7da0fb68d8ad",
       "version_major": 2,
       "version_minor": 0
      },
      "text/plain": [
       "HBox(children=(IntProgress(value=0, max=2000), HTML(value='')))"
      ]
     },
     "metadata": {},
     "output_type": "display_data"
    },
    {
     "name": "stdout",
     "output_type": "stream",
     "text": [
      "Epoch: 9, train loss: 0.7484572911560535, val loss: 0.7552535770833493\n",
      "Accuracy: 0.0\n"
     ]
    },
    {
     "data": {
      "application/vnd.jupyter.widget-view+json": {
       "model_id": "315d1d11be364e568e8e55baa80bf23f",
       "version_major": 2,
       "version_minor": 0
      },
      "text/plain": [
       "HBox(children=(IntProgress(value=0, max=2000), HTML(value='')))"
      ]
     },
     "metadata": {},
     "output_type": "display_data"
    },
    {
     "name": "stdout",
     "output_type": "stream",
     "text": [
      "Epoch: 10, train loss: 0.7295774747729301, val loss: 0.7372084671258926\n",
      "Accuracy: 0.0\n"
     ]
    },
    {
     "data": {
      "application/vnd.jupyter.widget-view+json": {
       "model_id": "0938adb88adf4489998c08a0e56cd793",
       "version_major": 2,
       "version_minor": 0
      },
      "text/plain": [
       "HBox(children=(IntProgress(value=0, max=2000), HTML(value='')))"
      ]
     },
     "metadata": {},
     "output_type": "display_data"
    },
    {
     "name": "stdout",
     "output_type": "stream",
     "text": [
      "Epoch: 11, train loss: 0.7118799575269222, val loss: 0.7155162179470063\n",
      "Accuracy: 0.0\n"
     ]
    },
    {
     "data": {
      "application/vnd.jupyter.widget-view+json": {
       "model_id": "fe606967eb5c4326a2cf2d945111cc8b",
       "version_major": 2,
       "version_minor": 0
      },
      "text/plain": [
       "HBox(children=(IntProgress(value=0, max=2000), HTML(value='')))"
      ]
     },
     "metadata": {},
     "output_type": "display_data"
    },
    {
     "name": "stdout",
     "output_type": "stream",
     "text": [
      "Epoch: 12, train loss: 0.6966070536077023, val loss: 0.6944802804291248\n",
      "Accuracy: 0.0\n"
     ]
    },
    {
     "data": {
      "application/vnd.jupyter.widget-view+json": {
       "model_id": "b6a08361dd2a4c9fb8f796e438f72e9b",
       "version_major": 2,
       "version_minor": 0
      },
      "text/plain": [
       "HBox(children=(IntProgress(value=0, max=2000), HTML(value='')))"
      ]
     },
     "metadata": {},
     "output_type": "display_data"
    },
    {
     "name": "stdout",
     "output_type": "stream",
     "text": [
      "Epoch: 13, train loss: 0.682028436511755, val loss: 0.6817202255129814\n",
      "Accuracy: 0.0\n"
     ]
    },
    {
     "data": {
      "application/vnd.jupyter.widget-view+json": {
       "model_id": "f6796a1423df44b9b663ed25495d605a",
       "version_major": 2,
       "version_minor": 0
      },
      "text/plain": [
       "HBox(children=(IntProgress(value=0, max=2000), HTML(value='')))"
      ]
     },
     "metadata": {},
     "output_type": "display_data"
    },
    {
     "name": "stdout",
     "output_type": "stream",
     "text": [
      "Epoch: 14, train loss: 0.6691107560098172, val loss: 0.6679444389045238\n",
      "Accuracy: 0.0\n"
     ]
    },
    {
     "data": {
      "application/vnd.jupyter.widget-view+json": {
       "model_id": "13b5e81130784adab1cd19bf5273e551",
       "version_major": 2,
       "version_minor": 0
      },
      "text/plain": [
       "HBox(children=(IntProgress(value=0, max=2000), HTML(value='')))"
      ]
     },
     "metadata": {},
     "output_type": "display_data"
    },
    {
     "name": "stdout",
     "output_type": "stream",
     "text": [
      "Epoch: 15, train loss: 0.6564252242743969, val loss: 0.6578613689541817\n",
      "Accuracy: 0.0\n"
     ]
    },
    {
     "data": {
      "application/vnd.jupyter.widget-view+json": {
       "model_id": "fb5ca4b5bcf4456aa2bc24f67158736e",
       "version_major": 2,
       "version_minor": 0
      },
      "text/plain": [
       "HBox(children=(IntProgress(value=0, max=2000), HTML(value='')))"
      ]
     },
     "metadata": {},
     "output_type": "display_data"
    },
    {
     "name": "stdout",
     "output_type": "stream",
     "text": [
      "Epoch: 16, train loss: 0.6449667122066021, val loss: 0.6480595636367797\n",
      "Accuracy: 0.0\n"
     ]
    },
    {
     "data": {
      "application/vnd.jupyter.widget-view+json": {
       "model_id": "92ab161bdf2d429c88b67071f4ae8c83",
       "version_major": 2,
       "version_minor": 0
      },
      "text/plain": [
       "HBox(children=(IntProgress(value=0, max=2000), HTML(value='')))"
      ]
     },
     "metadata": {},
     "output_type": "display_data"
    },
    {
     "name": "stdout",
     "output_type": "stream",
     "text": [
      "Epoch: 17, train loss: 0.6341190542280674, val loss: 0.6392565336823464\n",
      "Accuracy: 0.0\n"
     ]
    },
    {
     "data": {
      "application/vnd.jupyter.widget-view+json": {
       "model_id": "39b49fdfa40d4975b4b2156409fba79c",
       "version_major": 2,
       "version_minor": 0
      },
      "text/plain": [
       "HBox(children=(IntProgress(value=0, max=2000), HTML(value='')))"
      ]
     },
     "metadata": {},
     "output_type": "display_data"
    },
    {
     "name": "stdout",
     "output_type": "stream",
     "text": [
      "Epoch: 18, train loss: 0.624147227793932, val loss: 0.6380221118032933\n",
      "Accuracy: 0.0\n"
     ]
    },
    {
     "data": {
      "application/vnd.jupyter.widget-view+json": {
       "model_id": "32bfe1c8dc5d4fabad465b0aaf079b67",
       "version_major": 2,
       "version_minor": 0
      },
      "text/plain": [
       "HBox(children=(IntProgress(value=0, max=2000), HTML(value='')))"
      ]
     },
     "metadata": {},
     "output_type": "display_data"
    },
    {
     "name": "stdout",
     "output_type": "stream",
     "text": [
      "Epoch: 19, train loss: 0.6142208555638791, val loss: 0.6334330803155899\n",
      "Accuracy: 0.0\n",
      "Finished!\n"
     ]
    }
   ],
   "source": [
    "s.run(tf.global_variables_initializer())\n",
    "s.run(tf.local_variables_initializer())\n",
    "np.random.seed(42)\n",
    "random.seed(42)\n",
    "\n",
    "#history = []\n",
    "\n",
    "for epoch in range(n_epochs):\n",
    "    \n",
    "    train_loss = 0\n",
    "    counter = 0\n",
    "    pbar = tqdm(range(n_batches_per_epoch))\n",
    "    for _ in pbar:\n",
    "        train_loss += s.run([loss, train_step], generate_batch(y_train, dp_train, ratings_train, t_train, batch_size))[0]\n",
    "        counter += 1\n",
    "        \n",
    "    train_loss /= n_batches_per_epoch\n",
    "    \n",
    "    val_loss = 0\n",
    "    for _ in range(n_validation_batches):\n",
    "        val_loss += s.run(loss, generate_batch(y_test, dp_test, ratings_test, t_test, batch_size))\n",
    "        \n",
    "    val_loss /= n_validation_batches\n",
    "    \n",
    "    print('Epoch: {}, train loss: {}, val loss: {}'.format(epoch, train_loss, val_loss))\n",
    "    accuracy = s.run(acc, feed_dict = generate_batch(y_test, dp_test, ratings_test, t_test, batch_size))\n",
    "    print('Accuracy: '+str(accuracy))\n",
    "    \n",
    "    '''history.append(val_loss)\n",
    "    \n",
    "    clear_output(True)\n",
    "    plt.plot(history, label='validation loss')\n",
    "    plt.legend()\n",
    "    plt.show()'''\n",
    "\n",
    "    \n",
    "print(\"Finished!\")"
   ]
  },
  {
   "cell_type": "code",
   "execution_count": 60,
   "metadata": {},
   "outputs": [
    {
     "data": {
      "text/plain": [
       "'C:\\\\Users\\\\knyag\\\\Downloads\\\\Beatup\\\\Beatup\\\\model_3-19'"
      ]
     },
     "execution_count": 60,
     "metadata": {},
     "output_type": "execute_result"
    }
   ],
   "source": [
    "saver = tf.train.Saver()\n",
    "saver.save(s, r'C:\\Users\\knyag\\Downloads\\Beatup\\Beatup\\model_3', global_step=epoch)"
   ]
  }
 ],
 "metadata": {
  "kernelspec": {
   "display_name": "Python 3",
   "language": "python",
   "name": "python3"
  },
  "language_info": {
   "codemirror_mode": {
    "name": "ipython",
    "version": 3
   },
   "file_extension": ".py",
   "mimetype": "text/x-python",
   "name": "python",
   "nbconvert_exporter": "python",
   "pygments_lexer": "ipython3",
   "version": "3.7.1"
  }
 },
 "nbformat": 4,
 "nbformat_minor": 2
}
